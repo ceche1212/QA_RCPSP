{
  "nbformat": 4,
  "nbformat_minor": 0,
  "metadata": {
    "colab": {
      "provenance": []
    },
    "kernelspec": {
      "name": "python3",
      "display_name": "Python 3"
    },
    "language_info": {
      "name": "python"
    }
  },
  "cells": [
    {
      "cell_type": "code",
      "source": [
        "!pip install -q dwave-ocean-sdk"
      ],
      "metadata": {
        "id": "ZqcM89xEDK9h",
        "colab": {
          "base_uri": "https://localhost:8080/"
        },
        "outputId": "55f52683-e300-457b-d9ef-bec419c53115"
      },
      "execution_count": 1,
      "outputs": [
        {
          "metadata": {
            "tags": null
          },
          "name": "stdout",
          "output_type": "stream",
          "text": [
            "\u001b[2K     \u001b[90m━━━━━━━━━━━━━━━━━━━━━━━━━━━━━━━━━━━━━━━━\u001b[0m \u001b[32m18.7/18.7 MB\u001b[0m \u001b[31m41.2 MB/s\u001b[0m eta \u001b[36m0:00:00\u001b[0m\n",
            "\u001b[2K     \u001b[90m━━━━━━━━━━━━━━━━━━━━━━━━━━━━━━━━━━━━━━━━\u001b[0m \u001b[32m138.8/138.8 kB\u001b[0m \u001b[31m13.6 MB/s\u001b[0m eta \u001b[36m0:00:00\u001b[0m\n",
            "\u001b[2K     \u001b[90m━━━━━━━━━━━━━━━━━━━━━━━━━━━━━━━━━━━━━━━━\u001b[0m \u001b[32m74.8/74.8 kB\u001b[0m \u001b[31m8.1 MB/s\u001b[0m eta \u001b[36m0:00:00\u001b[0m\n",
            "\u001b[2K     \u001b[90m━━━━━━━━━━━━━━━━━━━━━━━━━━━━━━━━━━━━━━━━\u001b[0m \u001b[32m102.4/102.4 kB\u001b[0m \u001b[31m11.1 MB/s\u001b[0m eta \u001b[36m0:00:00\u001b[0m\n",
            "\u001b[2K     \u001b[90m━━━━━━━━━━━━━━━━━━━━━━━━━━━━━━━━━━━━━━━━\u001b[0m \u001b[32m3.4/3.4 MB\u001b[0m \u001b[31m52.6 MB/s\u001b[0m eta \u001b[36m0:00:00\u001b[0m\n",
            "\u001b[2K     \u001b[90m━━━━━━━━━━━━━━━━━━━━━━━━━━━━━━━━━━━━━━━━\u001b[0m \u001b[32m6.7/6.7 MB\u001b[0m \u001b[31m50.6 MB/s\u001b[0m eta \u001b[36m0:00:00\u001b[0m\n",
            "\u001b[2K     \u001b[90m━━━━━━━━━━━━━━━━━━━━━━━━━━━━━━━━━━━━━━━━\u001b[0m \u001b[32m103.2/103.2 kB\u001b[0m \u001b[31m5.7 MB/s\u001b[0m eta \u001b[36m0:00:00\u001b[0m\n",
            "\u001b[2K     \u001b[90m━━━━━━━━━━━━━━━━━━━━━━━━━━━━━━━━━━━━━━━━\u001b[0m \u001b[32m10.3/10.3 MB\u001b[0m \u001b[31m50.4 MB/s\u001b[0m eta \u001b[36m0:00:00\u001b[0m\n",
            "\u001b[2K     \u001b[90m━━━━━━━━━━━━━━━━━━━━━━━━━━━━━━━━━━━━━━━━\u001b[0m \u001b[32m45.5/45.5 kB\u001b[0m \u001b[31m4.5 MB/s\u001b[0m eta \u001b[36m0:00:00\u001b[0m\n",
            "\u001b[2K     \u001b[90m━━━━━━━━━━━━━━━━━━━━━━━━━━━━━━━━━━━━━━━━\u001b[0m \u001b[32m223.7/223.7 kB\u001b[0m \u001b[31m17.4 MB/s\u001b[0m eta \u001b[36m0:00:00\u001b[0m\n",
            "\u001b[2K     \u001b[90m━━━━━━━━━━━━━━━━━━━━━━━━━━━━━━━━━━━━━━━━\u001b[0m \u001b[32m305.6/305.6 kB\u001b[0m \u001b[31m26.8 MB/s\u001b[0m eta \u001b[36m0:00:00\u001b[0m\n",
            "\u001b[?25h"
          ]
        }
      ]
    },
    {
      "cell_type": "code",
      "source": [
        "!pip install cheche_pm"
      ],
      "metadata": {
        "id": "aCYsfH3zWjEA",
        "colab": {
          "base_uri": "https://localhost:8080/"
        },
        "outputId": "4690b0bc-ba58-4ad7-dcb5-d50e65e9e92a"
      },
      "execution_count": 2,
      "outputs": [
        {
          "output_type": "stream",
          "name": "stdout",
          "text": [
            "Collecting cheche_pm\n",
            "  Downloading cheche_pm-0.1.13-py2.py3-none-any.whl (39 kB)\n",
            "Requirement already satisfied: numpy in /usr/local/lib/python3.10/dist-packages (from cheche_pm) (1.25.2)\n",
            "Requirement already satisfied: pandas in /usr/local/lib/python3.10/dist-packages (from cheche_pm) (1.5.3)\n",
            "Requirement already satisfied: matplotlib in /usr/local/lib/python3.10/dist-packages (from cheche_pm) (3.7.1)\n",
            "Requirement already satisfied: tqdm in /usr/local/lib/python3.10/dist-packages (from cheche_pm) (4.66.2)\n",
            "Requirement already satisfied: networkx in /usr/local/lib/python3.10/dist-packages (from cheche_pm) (3.2.1)\n",
            "Requirement already satisfied: pydot in /usr/local/lib/python3.10/dist-packages (from cheche_pm) (1.4.2)\n",
            "Requirement already satisfied: plotly in /usr/local/lib/python3.10/dist-packages (from cheche_pm) (5.15.0)\n",
            "Requirement already satisfied: scipy in /usr/local/lib/python3.10/dist-packages (from cheche_pm) (1.11.4)\n",
            "Requirement already satisfied: openpyxl in /usr/local/lib/python3.10/dist-packages (from cheche_pm) (3.1.2)\n",
            "Requirement already satisfied: contourpy>=1.0.1 in /usr/local/lib/python3.10/dist-packages (from matplotlib->cheche_pm) (1.2.0)\n",
            "Requirement already satisfied: cycler>=0.10 in /usr/local/lib/python3.10/dist-packages (from matplotlib->cheche_pm) (0.12.1)\n",
            "Requirement already satisfied: fonttools>=4.22.0 in /usr/local/lib/python3.10/dist-packages (from matplotlib->cheche_pm) (4.49.0)\n",
            "Requirement already satisfied: kiwisolver>=1.0.1 in /usr/local/lib/python3.10/dist-packages (from matplotlib->cheche_pm) (1.4.5)\n",
            "Requirement already satisfied: packaging>=20.0 in /usr/local/lib/python3.10/dist-packages (from matplotlib->cheche_pm) (23.2)\n",
            "Requirement already satisfied: pillow>=6.2.0 in /usr/local/lib/python3.10/dist-packages (from matplotlib->cheche_pm) (9.4.0)\n",
            "Requirement already satisfied: pyparsing>=2.3.1 in /usr/local/lib/python3.10/dist-packages (from matplotlib->cheche_pm) (3.1.1)\n",
            "Requirement already satisfied: python-dateutil>=2.7 in /usr/local/lib/python3.10/dist-packages (from matplotlib->cheche_pm) (2.8.2)\n",
            "Requirement already satisfied: et-xmlfile in /usr/local/lib/python3.10/dist-packages (from openpyxl->cheche_pm) (1.1.0)\n",
            "Requirement already satisfied: pytz>=2020.1 in /usr/local/lib/python3.10/dist-packages (from pandas->cheche_pm) (2023.4)\n",
            "Requirement already satisfied: tenacity>=6.2.0 in /usr/local/lib/python3.10/dist-packages (from plotly->cheche_pm) (8.2.3)\n",
            "Requirement already satisfied: six>=1.5 in /usr/local/lib/python3.10/dist-packages (from python-dateutil>=2.7->matplotlib->cheche_pm) (1.16.0)\n",
            "Installing collected packages: cheche_pm\n",
            "Successfully installed cheche_pm-0.1.13\n"
          ]
        }
      ]
    },
    {
      "cell_type": "code",
      "execution_count": 5,
      "metadata": {
        "id": "qByX2T5iC3B2"
      },
      "outputs": [],
      "source": [
        "import pandas as pd\n",
        "import numpy as np\n",
        "import matplotlib.pyplot as plt\n",
        "from collections import defaultdict\n",
        "from itertools import product\n",
        "import time\n",
        "from tqdm import tqdm\n",
        "from cheche_pm import Project"
      ]
    },
    {
      "cell_type": "code",
      "source": [
        "import dimod\n",
        "from dwave.system.samplers import DWaveSampler\n",
        "from dwave.system.composites import EmbeddingComposite\n",
        "import dwave.inspector as inspector\n",
        "from dwave.system.samplers import DWaveSampler\n",
        "from dimod.binary.binary_quadratic_model import BinaryQuadraticModel\n",
        "from dimod.vartypes import Vartype"
      ],
      "metadata": {
        "id": "07TPWOZ2DVoF"
      },
      "execution_count": 6,
      "outputs": []
    },
    {
      "cell_type": "code",
      "source": [
        "endpoint = 'https://cloud.dwavesys.com/sapi'\n",
        "token = '<ENTER YOUR DWAVE API KEY HERE>'"
      ],
      "metadata": {
        "id": "JJZPndy8DnN3"
      },
      "execution_count": 7,
      "outputs": []
    },
    {
      "cell_type": "markdown",
      "source": [
        "# Input data"
      ],
      "metadata": {
        "id": "b_jgfTPoDvXh"
      }
    },
    {
      "cell_type": "code",
      "source": [
        "inst = '< Insert the instance name here>'"
      ],
      "metadata": {
        "id": "U6RFBZjiXRt3"
      },
      "execution_count": null,
      "outputs": []
    },
    {
      "cell_type": "code",
      "source": [
        "project = Project.from_rangen_1_rcp_file(file_name = inst)"
      ],
      "metadata": {
        "id": "bswjjy98W9re"
      },
      "execution_count": null,
      "outputs": []
    },
    {
      "cell_type": "code",
      "source": [
        "data = project.produce_outputs_for_MILP()"
      ],
      "metadata": {
        "id": "e6juf0lwXMO_"
      },
      "execution_count": null,
      "outputs": []
    },
    {
      "cell_type": "code",
      "source": [
        "n,p,S,u,c,ph = tuple(data.values())\n",
        "\n",
        "(R, J, T) = (range(len(c)), range(len(p)), range(ph))\n",
        "(R, J, T)\n",
        "M = sum(p)"
      ],
      "metadata": {
        "id": "LlZS5qQ3XQhB"
      },
      "execution_count": null,
      "outputs": []
    },
    {
      "cell_type": "code",
      "source": [
        "nbOfActivities = n\n",
        "nbOfPeriods = M\n",
        "nbOfRessources = len(c)\n",
        "timeActivities = p\n",
        "capaRessources = c\n",
        "activityRessourceConsumption = u\n",
        "pairsListPrecedence = S\n",
        "annealsNumber = 1000"
      ],
      "metadata": {
        "id": "lHOXveF_3n_3"
      },
      "execution_count": null,
      "outputs": []
    },
    {
      "cell_type": "code",
      "source": [
        "lambda_equalityConst =  nbOfPeriods\n",
        "lambda_precedenceConst =  nbOfPeriods\n",
        "lambda_ressourceConst =  nbOfPeriods\n",
        "bigInteger  = 999999"
      ],
      "metadata": {
        "id": "HQOQgDao3nWs"
      },
      "execution_count": null,
      "outputs": []
    },
    {
      "cell_type": "code",
      "source": [
        "bqm = BinaryQuadraticModel(Vartype.BINARY)"
      ],
      "metadata": {
        "id": "4NSnlNvFdTPm"
      },
      "execution_count": null,
      "outputs": []
    },
    {
      "cell_type": "code",
      "source": [
        "x = [[f'x_{i}_{t}' for t in T] for i in J]"
      ],
      "metadata": {
        "id": "fHAfkkYdJAFO"
      },
      "execution_count": null,
      "outputs": []
    },
    {
      "cell_type": "markdown",
      "source": [
        "# Create the BQM"
      ],
      "metadata": {
        "id": "duBj8gcXEL41"
      }
    },
    {
      "cell_type": "code",
      "source": [
        "bqm = BinaryQuadraticModel(Vartype.BINARY)"
      ],
      "metadata": {
        "id": "cdb5Z75GEJ_m"
      },
      "execution_count": null,
      "outputs": []
    },
    {
      "cell_type": "code",
      "source": [
        "x = [[f'x_{i}_{t}' for t in T] for i in J]"
      ],
      "metadata": {
        "id": "AT6mwmTdXu3P"
      },
      "execution_count": null,
      "outputs": []
    },
    {
      "cell_type": "code",
      "source": [
        "for t in T:\n",
        "  bqm.add_variable(x[nbOfActivities+1][t], t)"
      ],
      "metadata": {
        "id": "H2UxpHG1Xw41"
      },
      "execution_count": null,
      "outputs": []
    },
    {
      "cell_type": "markdown",
      "source": [
        "## Objective function"
      ],
      "metadata": {
        "id": "Q9fL4D_IHrTG"
      }
    },
    {
      "cell_type": "code",
      "source": [
        "for t in T:\n",
        "  bqm.add_variable(x[nbOfActivities+1][t], t)"
      ],
      "metadata": {
        "id": "M60ogmKzHmWB"
      },
      "execution_count": null,
      "outputs": []
    },
    {
      "cell_type": "markdown",
      "source": [
        "## Constraints"
      ],
      "metadata": {
        "id": "o8nXo3cEJF-x"
      }
    },
    {
      "cell_type": "markdown",
      "source": [
        "### C1: Each activity must have an start date\n"
      ],
      "metadata": {
        "id": "tOYwf0OiJIfJ"
      }
    },
    {
      "cell_type": "code",
      "source": [
        "for i in J:\n",
        "  terms = x[i]\n",
        "  terms = [(x,1) for x in terms]\n",
        "  bqm.add_linear_equality_constraint(terms=terms,lagrange_multiplier=lambda_equalityConst,constant=-1)\n",
        "  terms.clear"
      ],
      "metadata": {
        "id": "P7sxa9ETJHI_"
      },
      "execution_count": null,
      "outputs": []
    },
    {
      "cell_type": "markdown",
      "source": [
        "### C2: Precedence constraints"
      ],
      "metadata": {
        "id": "RhjrcRa_Lt_x"
      }
    },
    {
      "cell_type": "code",
      "source": [
        "for precedenceIndex in range(len(pairsListPrecedence)): # precedence constraints\n",
        "    activityOne = pairsListPrecedence[precedenceIndex][0]\n",
        "    activityTwo = pairsListPrecedence[precedenceIndex][1]\n",
        "    timeActivityOne = timeActivities[activityOne]\n",
        "    for p1 in range(nbOfPeriods):\n",
        "        for p2 in range(nbOfPeriods):\n",
        "            if (p1 + timeActivityOne > p2):\n",
        "                nameVar1 = \"x_\" + str(activityOne) +  \"_\" + str(p1)\n",
        "                nameVar2 = \"x_\" + str(activityTwo) +  \"_\" + str(p2)\n",
        "                bqm.add_quadratic(nameVar1,nameVar2,lambda_precedenceConst) # venturelli constraint\n",
        "                #print(\"x \", nameVar1, \" * \", nameVar2, \" = 0 \")"
      ],
      "metadata": {
        "id": "p5ooSbzWLtj5"
      },
      "execution_count": null,
      "outputs": []
    },
    {
      "cell_type": "markdown",
      "source": [
        "### C3: Resource constraints"
      ],
      "metadata": {
        "id": "RSbLoJ4RPfFY"
      }
    },
    {
      "cell_type": "code",
      "source": [
        "for r in R:\n",
        "  for t in T:\n",
        "    terms = [(f'x_{j}_{t2}',u[j][r]) for j in J for t2 in range(max(0, t - p[j] + 1), t + 1)]\n",
        "    bqm.add_linear_inequality_constraint(terms=terms,\n",
        "                                         lagrange_multiplier=lambda_ressourceConst,\n",
        "                                         label='res_',\n",
        "                                         constant = -c[r],\n",
        "                                         lb = -bigInteger,\n",
        "                                         ub = 0)\n",
        "    terms.clear"
      ],
      "metadata": {
        "id": "SiuiMpf7Ls26"
      },
      "execution_count": null,
      "outputs": []
    },
    {
      "cell_type": "code",
      "source": [
        "print(dict(bqm.linear))\n",
        "\n",
        "print(\"\\n\")\n",
        "\n",
        "print(dict(bqm.quadratic))"
      ],
      "metadata": {
        "id": "IeFmgxYLPpeR"
      },
      "execution_count": null,
      "outputs": []
    },
    {
      "cell_type": "code",
      "source": [
        "len(dict(bqm.linear))"
      ],
      "metadata": {
        "id": "v07CWuigVikm"
      },
      "execution_count": null,
      "outputs": []
    },
    {
      "cell_type": "code",
      "source": [
        "bqm.to_qubo() # genera un diccionario"
      ],
      "metadata": {
        "id": "MPCcu7fbWO3n"
      },
      "execution_count": null,
      "outputs": []
    },
    {
      "cell_type": "markdown",
      "source": [
        "# Solving the BQM"
      ],
      "metadata": {
        "id": "h0BtfNQHP7RJ"
      }
    },
    {
      "cell_type": "code",
      "source": [
        "sampler = DWaveSampler(solver='Advantage_system6.3',endpoint= endpoint, token = token)"
      ],
      "metadata": {
        "id": "ThsIC-hSYFQW"
      },
      "execution_count": null,
      "outputs": []
    },
    {
      "cell_type": "code",
      "source": [
        "print(\"Connected to sampler\", sampler.solver.name)"
      ],
      "metadata": {
        "id": "VlCacJTLYJuy"
      },
      "execution_count": null,
      "outputs": []
    },
    {
      "cell_type": "code",
      "source": [
        "print(\"Maximum anneal-schedule points: {}\".format(sampler.properties[\"max_anneal_schedule_points\"]))\n",
        "print(\"Annealing time range: {}\".format(sampler.properties[\"annealing_time_range\"]))\n",
        "\n",
        "max_slope = 1.0/sampler.properties[\"annealing_time_range\"][0]\n",
        "\n",
        "print(\"Maximum slope allowed on this solver is {:.2f}.\".format(max_slope))"
      ],
      "metadata": {
        "colab": {
          "base_uri": "https://localhost:8080/"
        },
        "id": "0S5CP-FOYMhv",
        "outputId": "a902ba87-71af-4236-83da-04b1d9bacb97"
      },
      "execution_count": null,
      "outputs": [
        {
          "output_type": "stream",
          "name": "stdout",
          "text": [
            "Maximum anneal-schedule points: 12\n",
            "Annealing time range: [0.5, 2000.0]\n",
            "Maximum slope allowed on this solver is 2.00.\n"
          ]
        }
      ]
    },
    {
      "cell_type": "code",
      "source": [
        "sampler = EmbeddingComposite(sampler)\n",
        "sampler_name = sampler.properties['child_properties']['chip_id']"
      ],
      "metadata": {
        "id": "LFGFaC_jP8pD"
      },
      "execution_count": null,
      "outputs": []
    },
    {
      "cell_type": "code",
      "source": [
        "sampleset = sampler.sample(bqm, num_reads= annealsNumber)"
      ],
      "metadata": {
        "id": "sQwQXF-TQued"
      },
      "execution_count": null,
      "outputs": []
    }
  ]
}