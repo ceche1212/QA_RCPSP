{
  "nbformat": 4,
  "nbformat_minor": 0,
  "metadata": {
    "colab": {
      "provenance": [],
      "toc_visible": true
    },
    "kernelspec": {
      "name": "python3",
      "display_name": "Python 3"
    },
    "language_info": {
      "name": "python"
    }
  },
  "cells": [
    {
      "cell_type": "code",
      "source": [
        "!pip install -q dwave-ocean-sdk"
      ],
      "metadata": {
        "id": "ZqcM89xEDK9h"
      },
      "execution_count": null,
      "outputs": []
    },
    {
      "cell_type": "code",
      "source": [
        "!pip install cheche_pm"
      ],
      "metadata": {
        "id": "aCYsfH3zWjEA"
      },
      "execution_count": null,
      "outputs": []
    },
    {
      "cell_type": "code",
      "execution_count": null,
      "metadata": {
        "id": "qByX2T5iC3B2"
      },
      "outputs": [],
      "source": [
        "import pandas as pd\n",
        "import numpy as np\n",
        "import matplotlib.pyplot as plt\n",
        "from collections import defaultdict\n",
        "from itertools import product\n",
        "import time\n",
        "from tqdm import tqdm\n",
        "from cheche_pm import Project"
      ]
    },
    {
      "cell_type": "code",
      "source": [
        "import dimod\n",
        "from dwave.system.samplers import DWaveSampler\n",
        "from dwave.system.composites import EmbeddingComposite\n",
        "import dwave.inspector as inspector\n",
        "from dwave.system.samplers import DWaveSampler\n",
        "from dimod.binary.binary_quadratic_model import BinaryQuadraticModel\n",
        "from dimod.vartypes import Vartype"
      ],
      "metadata": {
        "id": "07TPWOZ2DVoF"
      },
      "execution_count": null,
      "outputs": []
    },
    {
      "cell_type": "code",
      "source": [
        "endpoint = 'https://cloud.dwavesys.com/sapi'\n",
        "token = '<ENTER YOUR DWAVE API KEY HERE>'"
      ],
      "metadata": {
        "id": "JJZPndy8DnN3"
      },
      "execution_count": null,
      "outputs": []
    },
    {
      "cell_type": "markdown",
      "source": [
        "# Input data"
      ],
      "metadata": {
        "id": "b_jgfTPoDvXh"
      }
    },
    {
      "cell_type": "code",
      "source": [
        "inst = '< Insert the instance name here>'"
      ],
      "metadata": {
        "id": "U6RFBZjiXRt3"
      },
      "execution_count": null,
      "outputs": []
    },
    {
      "cell_type": "code",
      "source": [
        "project = Project.from_rangen_1_rcp_file(file_name = inst)"
      ],
      "metadata": {
        "id": "bswjjy98W9re"
      },
      "execution_count": null,
      "outputs": []
    },
    {
      "cell_type": "code",
      "source": [
        "data = project.produce_outputs_for_MILP()"
      ],
      "metadata": {
        "id": "e6juf0lwXMO_"
      },
      "execution_count": null,
      "outputs": []
    },
    {
      "cell_type": "code",
      "source": [
        "n,p,S,u,c,ph = tuple(data.values())\n",
        "\n",
        "(R, J, T) = (range(len(c)), range(len(p)), range(ph))\n",
        "(R, J, T)\n",
        "M = sum(p)"
      ],
      "metadata": {
        "id": "LlZS5qQ3XQhB"
      },
      "execution_count": null,
      "outputs": []
    },
    {
      "cell_type": "code",
      "source": [
        "nbOfActivities = n\n",
        "nbOfPeriods = M\n",
        "nbOfRessources = len(c)\n",
        "timeActivities = p\n",
        "capaRessources = c\n",
        "activityRessourceConsumption = u\n",
        "pairsListPrecedence = S\n",
        "annealsNumber = 1000"
      ],
      "metadata": {
        "id": "lHOXveF_3n_3"
      },
      "execution_count": null,
      "outputs": []
    },
    {
      "cell_type": "code",
      "source": [
        "lambda_equalityConst =  nbOfPeriods\n",
        "lambda_precedenceConst =  nbOfPeriods\n",
        "lambda_ressourceConst =  nbOfPeriods\n",
        "bigInteger  = 999999"
      ],
      "metadata": {
        "id": "HQOQgDao3nWs"
      },
      "execution_count": null,
      "outputs": []
    },
    {
      "cell_type": "markdown",
      "source": [
        "# Create the BQM"
      ],
      "metadata": {
        "id": "duBj8gcXEL41"
      }
    },
    {
      "cell_type": "code",
      "source": [
        "bqm = BinaryQuadraticModel(Vartype.BINARY)"
      ],
      "metadata": {
        "id": "cdb5Z75GEJ_m"
      },
      "execution_count": null,
      "outputs": []
    },
    {
      "cell_type": "code",
      "source": [
        "x = [[f'x_{i}_{t}' for t in T] for i in J]"
      ],
      "metadata": {
        "id": "AT6mwmTdXu3P"
      },
      "execution_count": null,
      "outputs": []
    },
    {
      "cell_type": "code",
      "source": [
        "for t in T:\n",
        "  bqm.add_variable(x[nbOfActivities+1][t], t)"
      ],
      "metadata": {
        "id": "H2UxpHG1Xw41"
      },
      "execution_count": null,
      "outputs": []
    },
    {
      "cell_type": "markdown",
      "source": [
        "## Objective function"
      ],
      "metadata": {
        "id": "Q9fL4D_IHrTG"
      }
    },
    {
      "cell_type": "code",
      "source": [
        "for t in T:\n",
        "  bqm.add_variable(x[nbOfActivities+1][t], t)"
      ],
      "metadata": {
        "id": "M60ogmKzHmWB"
      },
      "execution_count": null,
      "outputs": []
    },
    {
      "cell_type": "markdown",
      "source": [
        "## Constraints"
      ],
      "metadata": {
        "id": "o8nXo3cEJF-x"
      }
    },
    {
      "cell_type": "markdown",
      "source": [
        "### C1: Each activity must have an start date\n"
      ],
      "metadata": {
        "id": "tOYwf0OiJIfJ"
      }
    },
    {
      "cell_type": "code",
      "source": [
        "for i in J:\n",
        "  terms = x[i]\n",
        "  terms = [(x,1) for x in terms]\n",
        "  bqm.add_linear_equality_constraint(terms=terms,lagrange_multiplier=lambda_equalityConst,constant=-1)\n",
        "  terms.clear"
      ],
      "metadata": {
        "id": "P7sxa9ETJHI_"
      },
      "execution_count": null,
      "outputs": []
    },
    {
      "cell_type": "markdown",
      "source": [
        "### C2: Precedence constraints"
      ],
      "metadata": {
        "id": "RhjrcRa_Lt_x"
      }
    },
    {
      "cell_type": "code",
      "source": [
        "for precedenceIndex in range(len(pairsListPrecedence)): # precedence constraints\n",
        "    activityOne = pairsListPrecedence[precedenceIndex][0]\n",
        "    activityTwo = pairsListPrecedence[precedenceIndex][1]\n",
        "    timeActivityOne = timeActivities[activityOne]\n",
        "    for p1 in range(nbOfPeriods):\n",
        "        for p2 in range(nbOfPeriods):\n",
        "            if (p1 + timeActivityOne > p2):\n",
        "                nameVar1 = \"x_\" + str(activityOne) +  \"_\" + str(p1)\n",
        "                nameVar2 = \"x_\" + str(activityTwo) +  \"_\" + str(p2)\n",
        "                bqm.add_quadratic(nameVar1,nameVar2,lambda_precedenceConst) # venturelli constraint\n",
        "                #print(\"x \", nameVar1, \" * \", nameVar2, \" = 0 \")"
      ],
      "metadata": {
        "id": "p5ooSbzWLtj5"
      },
      "execution_count": null,
      "outputs": []
    },
    {
      "cell_type": "markdown",
      "source": [
        "### C3: Resource constraints"
      ],
      "metadata": {
        "id": "RSbLoJ4RPfFY"
      }
    },
    {
      "cell_type": "code",
      "source": [
        "for r in R:\n",
        "  for t in T:\n",
        "    terms = [(f'x_{j}_{t2}',u[j][r]) for j in J for t2 in range(max(0, t - p[j] + 1), t + 1)]\n",
        "    bqm.add_linear_inequality_constraint(terms=terms,\n",
        "                                         lagrange_multiplier=lambda_ressourceConst,\n",
        "                                         label='res_',\n",
        "                                         constant = -c[r],\n",
        "                                         lb = -bigInteger,\n",
        "                                         ub = 0)\n",
        "    terms.clear"
      ],
      "metadata": {
        "id": "SiuiMpf7Ls26"
      },
      "execution_count": null,
      "outputs": []
    },
    {
      "cell_type": "code",
      "source": [
        "print(dict(bqm.linear))\n",
        "\n",
        "print(\"\\n\")\n",
        "\n",
        "print(dict(bqm.quadratic))"
      ],
      "metadata": {
        "id": "IeFmgxYLPpeR"
      },
      "execution_count": null,
      "outputs": []
    },
    {
      "cell_type": "code",
      "source": [
        "len(dict(bqm.linear))"
      ],
      "metadata": {
        "id": "v07CWuigVikm"
      },
      "execution_count": null,
      "outputs": []
    },
    {
      "cell_type": "code",
      "source": [
        "bqm.to_qubo() # genera un diccionario"
      ],
      "metadata": {
        "id": "MPCcu7fbWO3n"
      },
      "execution_count": null,
      "outputs": []
    },
    {
      "cell_type": "markdown",
      "source": [
        "# Define annealing schedule"
      ],
      "metadata": {
        "id": "LC0RLvHvaeOy"
      }
    },
    {
      "cell_type": "code",
      "source": [
        "def make_reverse_anneal_schedule(s_target=0.0, hold_time=10.0, ramp_back_slope=0.2, ramp_up_time=0.0201,\n",
        "                                 ramp_up_slope=None):\n",
        "    \"\"\"Build annealing waveform pattern for reverse anneal feature.\n",
        "\n",
        "    Waveform starts and ends at s=1.0, descending to a constant value\n",
        "    s_target in between, following a linear ramp.\n",
        "\n",
        "      s_target:   s-parameter to descend to (between 0 and 1)\n",
        "      hold_time:  amount of time (in us) to spend at s_target (must be >= 2.0us)\n",
        "      ramp_slope: slope of transition region, in units 1/us\n",
        "    \"\"\"\n",
        "    # validate parameters\n",
        "    if s_target < 0.0 or s_target > 1.0:\n",
        "        raise ValueError(\"s_target must be between 0 and 1\")\n",
        "    if hold_time < 0.0:\n",
        "        raise ValueError(\"hold_time must be >= 0\")\n",
        "    if ramp_back_slope > 0.2:\n",
        "        raise ValueError(\"ramp_back_slope must be <= 0.2\")\n",
        "    if ramp_back_slope <= 0.0:\n",
        "        raise ValueError(\"ramp_back_slope must be > 0\")\n",
        "\n",
        "    ramp_time = (1.0 - s_target) / ramp_back_slope\n",
        "\n",
        "    initial_s = 1.0\n",
        "    pattern = [[0.0, initial_s]]\n",
        "\n",
        "    # don't add new points if s_target == 1.0\n",
        "    if s_target < 1.0:\n",
        "        pattern.append([round(ramp_time, 4), round(s_target, 4)])\n",
        "        if hold_time != 0:\n",
        "            pattern.append([round(ramp_time+hold_time, 4), round(s_target, 4)])\n",
        "\n",
        "    # add last point\n",
        "    if ramp_up_slope is not None:\n",
        "        ramp_up_time = (1.0-s_target)/ramp_up_slope\n",
        "        pattern.append([round(ramp_time + hold_time + ramp_up_time, 4), round(1.0, 4)])\n",
        "    else:\n",
        "        pattern.append([round(ramp_time + hold_time + ramp_up_time, 4), round(1.0, 4)])\n",
        "\n",
        "    return pattern"
      ],
      "metadata": {
        "id": "veY9jW34afyt"
      },
      "execution_count": null,
      "outputs": []
    },
    {
      "cell_type": "code",
      "source": [
        "sampler = DWaveSampler(solver='Advantage_system6.3',endpoint= endpoint, token = token)"
      ],
      "metadata": {
        "id": "ThsIC-hSYFQW"
      },
      "execution_count": null,
      "outputs": []
    },
    {
      "cell_type": "code",
      "source": [
        "print(\"Connected to sampler\", sampler.solver.name)"
      ],
      "metadata": {
        "id": "VlCacJTLYJuy"
      },
      "execution_count": null,
      "outputs": []
    },
    {
      "cell_type": "code",
      "source": [
        "print(\"Maximum anneal-schedule points: {}\".format(sampler.properties[\"max_anneal_schedule_points\"]))\n",
        "print(\"Annealing time range: {}\".format(sampler.properties[\"annealing_time_range\"]))\n",
        "\n",
        "max_slope = 1.0/sampler.properties[\"annealing_time_range\"][0]\n",
        "\n",
        "print(\"Maximum slope allowed on this solver is {:.2f}.\".format(max_slope))"
      ],
      "metadata": {
        "id": "0S5CP-FOYMhv"
      },
      "execution_count": null,
      "outputs": []
    },
    {
      "cell_type": "code",
      "execution_count": null,
      "metadata": {
        "id": "Ebw9cFj7iU3s"
      },
      "outputs": [],
      "source": [
        "reverse_schedule = make_reverse_anneal_schedule(s_target=0.45, hold_time=80, ramp_up_slope = max_slope)\n",
        "time_total = reverse_schedule[3][0]\n",
        "\n",
        "print(reverse_schedule)\n",
        "print(\"Total anneal-schedule time is {} us\".format(time_total))"
      ]
    },
    {
      "cell_type": "code",
      "execution_count": null,
      "metadata": {
        "scrolled": true,
        "id": "PuJwlWCPiU3t"
      },
      "outputs": [],
      "source": [
        "plt.figure(1, figsize=(3, 3))\n",
        "plt.plot(*np.array(reverse_schedule).T)\n",
        "plt.title(\"Reverse Anneal Schedule\")\n",
        "plt.xlabel(\"Time [us]\")\n",
        "plt.ylabel(\"Annealing Parameter s\")\n",
        "plt.ylim([0.0,1.0])\n",
        "plt.show()"
      ]
    },
    {
      "cell_type": "markdown",
      "source": [
        "# Forward solution"
      ],
      "metadata": {
        "id": "md12VbkTaGJd"
      }
    },
    {
      "cell_type": "code",
      "source": [
        "sampler = EmbeddingComposite(sampler)\n",
        "sampler_name = sampler.properties['child_properties']['chip_id']"
      ],
      "metadata": {
        "id": "LFGFaC_jP8pD"
      },
      "execution_count": null,
      "outputs": []
    },
    {
      "cell_type": "code",
      "source": [
        "forward_answer = sampler.sample(bqm, num_reads= 1000)"
      ],
      "metadata": {
        "id": "bTU768tkaV4q"
      },
      "execution_count": null,
      "outputs": []
    },
    {
      "cell_type": "code",
      "source": [
        "forward_solutions, forward_energies = forward_answer.record.sample, forward_answer.record.energy"
      ],
      "metadata": {
        "id": "Jiwj_lrBbLsP"
      },
      "execution_count": null,
      "outputs": []
    },
    {
      "cell_type": "code",
      "source": [
        "best = np.argmin(forward_energies)"
      ],
      "metadata": {
        "id": "exEjYiclbmM4"
      },
      "execution_count": null,
      "outputs": []
    },
    {
      "cell_type": "code",
      "source": [
        "initial = dict(zip(forward_answer.variables, forward_answer.record[best].sample))\n",
        "\n",
        "print(\"Lowest energy found: {}\".format(forward_answer.record.energy[best]))\n",
        "print(\"Average energy is {:.2f} with standard deviation {:.2f}\".format(forward_energies.mean(), forward_energies.std()))\n",
        "print(\"\\nSetting the initial state to a sample with energy: {}\".format(forward_answer.record.energy[best]))"
      ],
      "metadata": {
        "id": "UrcRjfJmbnoM"
      },
      "execution_count": null,
      "outputs": []
    },
    {
      "cell_type": "markdown",
      "source": [
        "# Reverse Annealing"
      ],
      "metadata": {
        "id": "KhaWEccwb9ey"
      }
    },
    {
      "cell_type": "code",
      "source": [
        "reverse_anneal_params = dict(anneal_schedule=reverse_schedule, initial_state=initial, reinitialize_state=True)"
      ],
      "metadata": {
        "id": "f7qwjNBqb45R"
      },
      "execution_count": null,
      "outputs": []
    },
    {
      "cell_type": "code",
      "source": [
        "reverse_answer = sampler.sample(bqm, num_reads= 1000,**reverse_anneal_params)"
      ],
      "metadata": {
        "id": "90Vp9kgmcZ2Q"
      },
      "execution_count": null,
      "outputs": []
    },
    {
      "cell_type": "code",
      "source": [
        "reverse_solutions, reverse_energies = reverse_answer.record.sample, reverse_answer.record.energy\n",
        "\n",
        "reverse_best = np.argmin(reverse_energies)\n",
        "\n",
        "print(\"Lowest energy found:\", reverse_answer.record.energy[reverse_best])\n",
        "print(\"Average energy is {:.2f} with standard deviation {:.2f}\".format(reverse_energies.mean(), reverse_energies.std()))"
      ],
      "metadata": {
        "id": "Zqdh4DKXcpIj"
      },
      "execution_count": null,
      "outputs": []
    },
    {
      "cell_type": "code",
      "source": [
        "reverse_best"
      ],
      "metadata": {
        "id": "JHO42p3zmsYc"
      },
      "execution_count": null,
      "outputs": []
    }
  ]
}